{
 "cells": [
  {
   "cell_type": "markdown",
   "id": "f4a54ced",
   "metadata": {},
   "source": [
    "2023 these roomates paid the following rents: \n",
    "\n",
    "-alfred pays 900\n",
    "-fatima pays 1200\n",
    "-trina pays 700\n",
    "\n",
    "what percentage does trina pay"
   ]
  },
  {
   "cell_type": "code",
   "execution_count": 1,
   "id": "d5aef4cc",
   "metadata": {},
   "outputs": [
    {
     "data": {
      "text/plain": [
       "25.0"
      ]
     },
     "execution_count": 1,
     "metadata": {},
     "output_type": "execute_result"
    }
   ],
   "source": [
    "## calculate here trina's share of the rent\n",
    "\n",
    "(700 / (900 + 1_200 + 700)) * 100\n",
    "\n",
    "\n"
   ]
  },
  {
   "cell_type": "code",
   "execution_count": 3,
   "id": "1dbf1909",
   "metadata": {},
   "outputs": [],
   "source": [
    "trina_rent_percentage = (700 / (900 + 1_200 + 700)) * 100"
   ]
  },
  {
   "cell_type": "code",
   "execution_count": 4,
   "id": "4765e4f7",
   "metadata": {},
   "outputs": [
    {
     "data": {
      "text/plain": [
       "25.0"
      ]
     },
     "execution_count": 4,
     "metadata": {},
     "output_type": "execute_result"
    }
   ],
   "source": [
    "trina_rent_percentage"
   ]
  },
  {
   "cell_type": "code",
   "execution_count": 8,
   "id": "9375bc37",
   "metadata": {},
   "outputs": [],
   "source": [
    "## assign values to variables \n",
    "\n",
    "alfred_monthly_23 = 900\n",
    "fatima_monthly_23 = 1_200\n",
    "trina_monthly_23 = 700"
   ]
  },
  {
   "cell_type": "code",
   "execution_count": 22,
   "id": "54f17a52",
   "metadata": {},
   "outputs": [],
   "source": [
    "## can also assign like this, python will automatically map: \n",
    "\n",
    "alfred_m, fatima_m, trina_m = 900, 1_200, 700"
   ]
  },
  {
   "cell_type": "code",
   "execution_count": 28,
   "id": "e8a062fd",
   "metadata": {},
   "outputs": [
    {
     "data": {
      "text/plain": [
       "900"
      ]
     },
     "execution_count": 28,
     "metadata": {},
     "output_type": "execute_result"
    }
   ],
   "source": [
    "## call variables\n",
    "\n",
    "alfred_m\n",
    "# fatima_monthly_23\n",
    "# trina_m"
   ]
  },
  {
   "cell_type": "code",
   "execution_count": 29,
   "id": "c8c8a1e4",
   "metadata": {},
   "outputs": [
    {
     "data": {
      "text/plain": [
       "25.0"
      ]
     },
     "execution_count": 29,
     "metadata": {},
     "output_type": "execute_result"
    }
   ],
   "source": [
    "## calculate trina's shares using variables\n",
    "\n",
    "trina_monthly_23/(alfred_monthly_23+fatima_monthly_23+trina_monthly_23)*100"
   ]
  },
  {
   "cell_type": "code",
   "execution_count": 32,
   "id": "448de0cc",
   "metadata": {},
   "outputs": [
    {
     "data": {
      "text/plain": [
       "25.0"
      ]
     },
     "execution_count": 32,
     "metadata": {},
     "output_type": "execute_result"
    }
   ],
   "source": [
    "## place result into variable\n",
    "\n",
    "trina_share_23 = trina_monthly_23/(alfred_monthly_23+fatima_monthly_23+trina_monthly_23)*100\n",
    "trina_share_23"
   ]
  },
  {
   "cell_type": "code",
   "execution_count": 37,
   "id": "20cda316",
   "metadata": {},
   "outputs": [
    {
     "data": {
      "text/plain": [
       "25.0"
      ]
     },
     "execution_count": 37,
     "metadata": {},
     "output_type": "execute_result"
    }
   ],
   "source": [
    "## easier to read \n",
    "trina_share_23 = \\\n",
    "trina_monthly_23/ (alfred_monthly_23+\\\n",
    "                   fatima_monthly_23+\\\n",
    "                   trina_monthly_23)*100\n",
    "\n",
    "trina_share_23"
   ]
  },
  {
   "cell_type": "code",
   "execution_count": 36,
   "id": "974b9b28",
   "metadata": {},
   "outputs": [
    {
     "data": {
      "text/plain": [
       "(25.0, 900, 1200)"
      ]
     },
     "execution_count": 36,
     "metadata": {},
     "output_type": "execute_result"
    }
   ],
   "source": [
    "## call it\n",
    "trina_share_23, alfred_monthly_23, fatima_monthly_23"
   ]
  },
  {
   "cell_type": "markdown",
   "id": "80c7c07d",
   "metadata": {},
   "source": [
    "# Printing"
   ]
  },
  {
   "cell_type": "code",
   "execution_count": 38,
   "id": "7a7864c8",
   "metadata": {},
   "outputs": [
    {
     "name": "stdout",
     "output_type": "stream",
     "text": [
      "hello world\n"
     ]
    }
   ],
   "source": [
    "## print function \n",
    "\n",
    "print(\"hello world\")"
   ]
  },
  {
   "cell_type": "code",
   "execution_count": 42,
   "id": "629e7a55",
   "metadata": {},
   "outputs": [
    {
     "name": "stdout",
     "output_type": "stream",
     "text": [
      "900\n",
      "700\n",
      "1200 900\n"
     ]
    }
   ],
   "source": [
    "## print variables \n",
    "\n",
    "print(alfred_monthly_23)\n",
    "print(trina_m)\n",
    "print(fatima_m, alfred_m)"
   ]
  },
  {
   "cell_type": "markdown",
   "id": "fd30593c",
   "metadata": {},
   "source": [
    "# f-string literals (or f-strings)\n",
    "\n",
    "print(f\"Some identifier words: {actual_variable}\")"
   ]
  },
  {
   "cell_type": "code",
   "execution_count": 44,
   "id": "17194d8c",
   "metadata": {},
   "outputs": [
    {
     "name": "stdout",
     "output_type": "stream",
     "text": [
      "Trina's rent: $700\n",
      "Trina pays 25.0 percent of the total rent!)\n"
     ]
    }
   ],
   "source": [
    "## using f-string\n",
    "## print total all the monthly rens plus totals using f-strings\n",
    "print(f\"Trina's rent: ${trina_monthly_23}\")\n",
    "print(f\"Trina pays {trina_share_23} percent of the total rent!\")"
   ]
  },
  {
   "cell_type": "code",
   "execution_count": 51,
   "id": "47ab8673",
   "metadata": {},
   "outputs": [
    {
     "name": "stdout",
     "output_type": "stream",
     "text": [
      "The total monthly rent is: $2,800 and Trina pays 25.0 percent of it.\n"
     ]
    }
   ],
   "source": [
    "## f-string also do calculations \n",
    "\n",
    "print (f\"The total monthly rent is:\\\n",
    " ${alfred_monthly_23+fatima_monthly_23+trina_monthly_23:,}\\\n",
    " and Trina pays {trina_share_23} percent of it.\")"
   ]
  },
  {
   "cell_type": "markdown",
   "id": "6db632f7",
   "metadata": {},
   "source": [
    "# WORKSHOP\n",
    "\n",
    "-create a new repo called "
   ]
  },
  {
   "cell_type": "code",
   "execution_count": null,
   "id": "65238cc6",
   "metadata": {},
   "outputs": [],
   "source": []
  },
  {
   "cell_type": "code",
   "execution_count": null,
   "id": "685f51d3",
   "metadata": {},
   "outputs": [],
   "source": []
  },
  {
   "cell_type": "code",
   "execution_count": null,
   "id": "c8bf7e74",
   "metadata": {},
   "outputs": [],
   "source": []
  },
  {
   "cell_type": "code",
   "execution_count": null,
   "id": "2db1edfb",
   "metadata": {},
   "outputs": [],
   "source": []
  }
 ],
 "metadata": {
  "kernelspec": {
   "display_name": "Python 3 (ipykernel)",
   "language": "python",
   "name": "python3"
  },
  "language_info": {
   "codemirror_mode": {
    "name": "ipython",
    "version": 3
   },
   "file_extension": ".py",
   "mimetype": "text/x-python",
   "name": "python",
   "nbconvert_exporter": "python",
   "pygments_lexer": "ipython3",
   "version": "3.11.5"
  }
 },
 "nbformat": 4,
 "nbformat_minor": 5
}
