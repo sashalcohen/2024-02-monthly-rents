{
 "cells": [
  {
   "cell_type": "markdown",
   "id": "c8695369",
   "metadata": {},
   "source": [
    "2023 these roomates paid the following rents: \n",
    "\n",
    "-alfred pays 900\n",
    "-fatima pays 1200\n",
    "-trina pays 700\n",
    "\n",
    "what percentage does trina pay"
   ]
  },
  {
   "cell_type": "code",
   "execution_count": 1,
   "id": "16ecc032",
   "metadata": {},
   "outputs": [
    {
     "data": {
      "text/plain": [
       "25.0"
      ]
     },
     "execution_count": 1,
     "metadata": {},
     "output_type": "execute_result"
    }
   ],
   "source": [
    "## calculate here trina's share of the rent\n",
    "\n",
    "(700 / (900 + 1_200 + 700)) * 100\n",
    "\n",
    "\n"
   ]
  },
  {
   "cell_type": "code",
   "execution_count": 3,
   "id": "9266e916",
   "metadata": {},
   "outputs": [],
   "source": [
    "trina_rent_percentage = (700 / (900 + 1_200 + 700)) * 100"
   ]
  },
  {
   "cell_type": "code",
   "execution_count": 4,
   "id": "ab2900fe",
   "metadata": {},
   "outputs": [
    {
     "data": {
      "text/plain": [
       "25.0"
      ]
     },
     "execution_count": 4,
     "metadata": {},
     "output_type": "execute_result"
    }
   ],
   "source": [
    "trina_rent_percentage"
   ]
  },
  {
   "cell_type": "code",
   "execution_count": 8,
   "id": "50b97e57",
   "metadata": {},
   "outputs": [],
   "source": [
    "## assign values to variables \n",
    "\n",
    "alfred_monthly_23 = 900\n",
    "fatima_monthly_23 = 1_200\n",
    "trina_monthly_23 = 700"
   ]
  },
  {
   "cell_type": "code",
   "execution_count": 22,
   "id": "8050beb3",
   "metadata": {},
   "outputs": [],
   "source": [
    "## can also assign like this, python will automatically map: \n",
    "\n",
    "alfred_m, fatima_m, trina_m = 900, 1_200, 700"
   ]
  },
  {
   "cell_type": "code",
   "execution_count": 28,
   "id": "dc05b5df",
   "metadata": {},
   "outputs": [
    {
     "data": {
      "text/plain": [
       "900"
      ]
     },
     "execution_count": 28,
     "metadata": {},
     "output_type": "execute_result"
    }
   ],
   "source": [
    "## call variables\n",
    "\n",
    "alfred_m\n",
    "# fatima_monthly_23\n",
    "# trina_m"
   ]
  },
  {
   "cell_type": "code",
   "execution_count": 29,
   "id": "35de3cf2",
   "metadata": {},
   "outputs": [
    {
     "data": {
      "text/plain": [
       "25.0"
      ]
     },
     "execution_count": 29,
     "metadata": {},
     "output_type": "execute_result"
    }
   ],
   "source": [
    "## calculate trina's shares using variables\n",
    "\n",
    "trina_monthly_23/(alfred_monthly_23+fatima_monthly_23+trina_monthly_23)*100"
   ]
  },
  {
   "cell_type": "code",
   "execution_count": 32,
   "id": "5413ff23",
   "metadata": {},
   "outputs": [
    {
     "data": {
      "text/plain": [
       "25.0"
      ]
     },
     "execution_count": 32,
     "metadata": {},
     "output_type": "execute_result"
    }
   ],
   "source": [
    "## place result into variable\n",
    "\n",
    "trina_share_23 = trina_monthly_23/(alfred_monthly_23+fatima_monthly_23+trina_monthly_23)*100\n",
    "trina_share_23"
   ]
  },
  {
   "cell_type": "code",
   "execution_count": 37,
   "id": "9021422a",
   "metadata": {},
   "outputs": [
    {
     "data": {
      "text/plain": [
       "25.0"
      ]
     },
     "execution_count": 37,
     "metadata": {},
     "output_type": "execute_result"
    }
   ],
   "source": [
    "## easier to read \n",
    "trina_share_23 = \\\n",
    "trina_monthly_23/ (alfred_monthly_23+\\\n",
    "                   fatima_monthly_23+\\\n",
    "                   trina_monthly_23)*100\n",
    "\n",
    "trina_share_23"
   ]
  },
  {
   "cell_type": "code",
   "execution_count": 36,
   "id": "d8f98e77",
   "metadata": {},
   "outputs": [
    {
     "data": {
      "text/plain": [
       "(25.0, 900, 1200)"
      ]
     },
     "execution_count": 36,
     "metadata": {},
     "output_type": "execute_result"
    }
   ],
   "source": [
    "## call it\n",
    "trina_share_23, alfred_monthly_23, fatima_monthly_23"
   ]
  },
  {
   "cell_type": "code",
   "execution_count": null,
   "id": "b52a05a9",
   "metadata": {},
   "outputs": [],
   "source": []
  }
 ],
 "metadata": {
  "kernelspec": {
   "display_name": "Python 3 (ipykernel)",
   "language": "python",
   "name": "python3"
  },
  "language_info": {
   "codemirror_mode": {
    "name": "ipython",
    "version": 3
   },
   "file_extension": ".py",
   "mimetype": "text/x-python",
   "name": "python",
   "nbconvert_exporter": "python",
   "pygments_lexer": "ipython3",
   "version": "3.11.5"
  }
 },
 "nbformat": 4,
 "nbformat_minor": 5
}
